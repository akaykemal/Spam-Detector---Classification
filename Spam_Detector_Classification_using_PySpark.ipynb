{
  "nbformat": 4,
  "nbformat_minor": 0,
  "metadata": {
    "colab": {
      "provenance": []
    },
    "kernelspec": {
      "name": "python3",
      "display_name": "Python 3"
    },
    "language_info": {
      "name": "python"
    }
  },
  "cells": [
    {
      "cell_type": "markdown",
      "source": [
        "# Spam Detector - Classification using PySpark\n",
        "I tried to use PySpark as another alternative for this project, but my results were not as good as the model without PySpark. Here I should also say that I did not understand PySpark that good, but I tried anyways like we did in our lessons."
      ],
      "metadata": {
        "id": "Jeu0VVpHbzJk"
      }
    },
    {
      "cell_type": "code",
      "execution_count": 2,
      "metadata": {
        "id": "qeJCLcrPT5bP"
      },
      "outputs": [],
      "source": [
        "#pip install pyspark"
      ]
    },
    {
      "cell_type": "markdown",
      "source": [
        "## Import Libraries and Load Data"
      ],
      "metadata": {
        "id": "lz-nwBH4cHS5"
      }
    },
    {
      "cell_type": "code",
      "source": [
        "# import libraries\n",
        "from pyspark import SparkConf, SparkContext \n",
        "import collections\n",
        "from pyspark.ml.classification import GBTClassifier\n",
        "\n",
        "from pyspark.ml.regression import LinearRegression\n",
        "\n",
        "from pyspark.sql import SparkSession\n",
        "from pyspark.ml.linalg import Vectors\n",
        "\n",
        "import pandas as pd"
      ],
      "metadata": {
        "id": "CaBqpd1HUN77"
      },
      "execution_count": 1,
      "outputs": []
    },
    {
      "cell_type": "code",
      "source": [
        "# load data\n",
        "train=pd.read_csv('/content/train.csv')\n",
        "labels=pd.read_csv(\"/content/train_labels.csv\")\n",
        "df=pd.concat([train,labels], axis=1) # combine train and label\n",
        "df.rename(columns={'0': 'label'}, inplace=True) # rename column from '0' to 'label'\n",
        "df.head()"
      ],
      "metadata": {
        "colab": {
          "base_uri": "https://localhost:8080/",
          "height": 300
        },
        "id": "J7_9DYpNUXQN",
        "outputId": "c1bccd21-8462-410a-bdde-ec6e3f7cb7ff"
      },
      "execution_count": 2,
      "outputs": [
        {
          "output_type": "execute_result",
          "data": {
            "text/plain": [
              "   0.097094   1.1133     45.038  0.88184  0.087009    1.041   1.5486    3.498  \\\n",
              "0  0.050086  0.11158    94.0800  1.76500  0.089417  4.80470  0.26742      NaN   \n",
              "1  0.088447  2.36340     5.0580  0.14436  0.064547  2.44400  4.25450  0.36506   \n",
              "2  0.772540  0.59469        NaN  0.97515  0.015987  0.52884  1.48840  3.96100   \n",
              "3  0.382410  4.81090  1955.1000  0.46050  0.024453  2.02980  3.74030  4.22810   \n",
              "4  0.081316  4.84150     4.0507  2.48320  0.058990  2.37940  1.61270  2.04220   \n",
              "\n",
              "    1.8578  0.0096729  ...   3.6654  0.061607  0.0031605  0.036038    0.0845  \\\n",
              "0  0.56473   0.035123  ...  4.16870  0.075432   0.010869  0.063972  0.079892   \n",
              "1  1.86090   0.009759  ...  4.56130  0.046505        NaN  0.084066  0.064829   \n",
              "2  4.80630   0.048617  ...  0.12832  0.065028   0.036862  0.010010  0.020709   \n",
              "3  2.42920   0.156830  ...  4.37010  1.001100   0.065750  0.043547  0.629430   \n",
              "4  1.65710   0.039377  ...  2.68040  0.076524   0.082756  0.041953  0.018092   \n",
              "\n",
              "   2.4517  3.3373  0.065201  0.091158  label  \n",
              "0  1.9795  3.5064  0.072132  0.091950      1  \n",
              "1  3.3087  2.9969  0.064328  0.036793      0  \n",
              "2  2.5237  2.1711  0.080865  0.081553      0  \n",
              "3  4.6262  3.1947       NaN  0.187180      1  \n",
              "4  3.3041  0.1922  0.032600  0.050172      0  \n",
              "\n",
              "[5 rows x 101 columns]"
            ],
            "text/html": [
              "\n",
              "  <div id=\"df-e663162b-4b02-419b-8174-dc50c4cf83c1\">\n",
              "    <div class=\"colab-df-container\">\n",
              "      <div>\n",
              "<style scoped>\n",
              "    .dataframe tbody tr th:only-of-type {\n",
              "        vertical-align: middle;\n",
              "    }\n",
              "\n",
              "    .dataframe tbody tr th {\n",
              "        vertical-align: top;\n",
              "    }\n",
              "\n",
              "    .dataframe thead th {\n",
              "        text-align: right;\n",
              "    }\n",
              "</style>\n",
              "<table border=\"1\" class=\"dataframe\">\n",
              "  <thead>\n",
              "    <tr style=\"text-align: right;\">\n",
              "      <th></th>\n",
              "      <th>0.097094</th>\n",
              "      <th>1.1133</th>\n",
              "      <th>45.038</th>\n",
              "      <th>0.88184</th>\n",
              "      <th>0.087009</th>\n",
              "      <th>1.041</th>\n",
              "      <th>1.5486</th>\n",
              "      <th>3.498</th>\n",
              "      <th>1.8578</th>\n",
              "      <th>0.0096729</th>\n",
              "      <th>...</th>\n",
              "      <th>3.6654</th>\n",
              "      <th>0.061607</th>\n",
              "      <th>0.0031605</th>\n",
              "      <th>0.036038</th>\n",
              "      <th>0.0845</th>\n",
              "      <th>2.4517</th>\n",
              "      <th>3.3373</th>\n",
              "      <th>0.065201</th>\n",
              "      <th>0.091158</th>\n",
              "      <th>label</th>\n",
              "    </tr>\n",
              "  </thead>\n",
              "  <tbody>\n",
              "    <tr>\n",
              "      <th>0</th>\n",
              "      <td>0.050086</td>\n",
              "      <td>0.11158</td>\n",
              "      <td>94.0800</td>\n",
              "      <td>1.76500</td>\n",
              "      <td>0.089417</td>\n",
              "      <td>4.80470</td>\n",
              "      <td>0.26742</td>\n",
              "      <td>NaN</td>\n",
              "      <td>0.56473</td>\n",
              "      <td>0.035123</td>\n",
              "      <td>...</td>\n",
              "      <td>4.16870</td>\n",
              "      <td>0.075432</td>\n",
              "      <td>0.010869</td>\n",
              "      <td>0.063972</td>\n",
              "      <td>0.079892</td>\n",
              "      <td>1.9795</td>\n",
              "      <td>3.5064</td>\n",
              "      <td>0.072132</td>\n",
              "      <td>0.091950</td>\n",
              "      <td>1</td>\n",
              "    </tr>\n",
              "    <tr>\n",
              "      <th>1</th>\n",
              "      <td>0.088447</td>\n",
              "      <td>2.36340</td>\n",
              "      <td>5.0580</td>\n",
              "      <td>0.14436</td>\n",
              "      <td>0.064547</td>\n",
              "      <td>2.44400</td>\n",
              "      <td>4.25450</td>\n",
              "      <td>0.36506</td>\n",
              "      <td>1.86090</td>\n",
              "      <td>0.009759</td>\n",
              "      <td>...</td>\n",
              "      <td>4.56130</td>\n",
              "      <td>0.046505</td>\n",
              "      <td>NaN</td>\n",
              "      <td>0.084066</td>\n",
              "      <td>0.064829</td>\n",
              "      <td>3.3087</td>\n",
              "      <td>2.9969</td>\n",
              "      <td>0.064328</td>\n",
              "      <td>0.036793</td>\n",
              "      <td>0</td>\n",
              "    </tr>\n",
              "    <tr>\n",
              "      <th>2</th>\n",
              "      <td>0.772540</td>\n",
              "      <td>0.59469</td>\n",
              "      <td>NaN</td>\n",
              "      <td>0.97515</td>\n",
              "      <td>0.015987</td>\n",
              "      <td>0.52884</td>\n",
              "      <td>1.48840</td>\n",
              "      <td>3.96100</td>\n",
              "      <td>4.80630</td>\n",
              "      <td>0.048617</td>\n",
              "      <td>...</td>\n",
              "      <td>0.12832</td>\n",
              "      <td>0.065028</td>\n",
              "      <td>0.036862</td>\n",
              "      <td>0.010010</td>\n",
              "      <td>0.020709</td>\n",
              "      <td>2.5237</td>\n",
              "      <td>2.1711</td>\n",
              "      <td>0.080865</td>\n",
              "      <td>0.081553</td>\n",
              "      <td>0</td>\n",
              "    </tr>\n",
              "    <tr>\n",
              "      <th>3</th>\n",
              "      <td>0.382410</td>\n",
              "      <td>4.81090</td>\n",
              "      <td>1955.1000</td>\n",
              "      <td>0.46050</td>\n",
              "      <td>0.024453</td>\n",
              "      <td>2.02980</td>\n",
              "      <td>3.74030</td>\n",
              "      <td>4.22810</td>\n",
              "      <td>2.42920</td>\n",
              "      <td>0.156830</td>\n",
              "      <td>...</td>\n",
              "      <td>4.37010</td>\n",
              "      <td>1.001100</td>\n",
              "      <td>0.065750</td>\n",
              "      <td>0.043547</td>\n",
              "      <td>0.629430</td>\n",
              "      <td>4.6262</td>\n",
              "      <td>3.1947</td>\n",
              "      <td>NaN</td>\n",
              "      <td>0.187180</td>\n",
              "      <td>1</td>\n",
              "    </tr>\n",
              "    <tr>\n",
              "      <th>4</th>\n",
              "      <td>0.081316</td>\n",
              "      <td>4.84150</td>\n",
              "      <td>4.0507</td>\n",
              "      <td>2.48320</td>\n",
              "      <td>0.058990</td>\n",
              "      <td>2.37940</td>\n",
              "      <td>1.61270</td>\n",
              "      <td>2.04220</td>\n",
              "      <td>1.65710</td>\n",
              "      <td>0.039377</td>\n",
              "      <td>...</td>\n",
              "      <td>2.68040</td>\n",
              "      <td>0.076524</td>\n",
              "      <td>0.082756</td>\n",
              "      <td>0.041953</td>\n",
              "      <td>0.018092</td>\n",
              "      <td>3.3041</td>\n",
              "      <td>0.1922</td>\n",
              "      <td>0.032600</td>\n",
              "      <td>0.050172</td>\n",
              "      <td>0</td>\n",
              "    </tr>\n",
              "  </tbody>\n",
              "</table>\n",
              "<p>5 rows × 101 columns</p>\n",
              "</div>\n",
              "      <button class=\"colab-df-convert\" onclick=\"convertToInteractive('df-e663162b-4b02-419b-8174-dc50c4cf83c1')\"\n",
              "              title=\"Convert this dataframe to an interactive table.\"\n",
              "              style=\"display:none;\">\n",
              "        \n",
              "  <svg xmlns=\"http://www.w3.org/2000/svg\" height=\"24px\"viewBox=\"0 0 24 24\"\n",
              "       width=\"24px\">\n",
              "    <path d=\"M0 0h24v24H0V0z\" fill=\"none\"/>\n",
              "    <path d=\"M18.56 5.44l.94 2.06.94-2.06 2.06-.94-2.06-.94-.94-2.06-.94 2.06-2.06.94zm-11 1L8.5 8.5l.94-2.06 2.06-.94-2.06-.94L8.5 2.5l-.94 2.06-2.06.94zm10 10l.94 2.06.94-2.06 2.06-.94-2.06-.94-.94-2.06-.94 2.06-2.06.94z\"/><path d=\"M17.41 7.96l-1.37-1.37c-.4-.4-.92-.59-1.43-.59-.52 0-1.04.2-1.43.59L10.3 9.45l-7.72 7.72c-.78.78-.78 2.05 0 2.83L4 21.41c.39.39.9.59 1.41.59.51 0 1.02-.2 1.41-.59l7.78-7.78 2.81-2.81c.8-.78.8-2.07 0-2.86zM5.41 20L4 18.59l7.72-7.72 1.47 1.35L5.41 20z\"/>\n",
              "  </svg>\n",
              "      </button>\n",
              "      \n",
              "  <style>\n",
              "    .colab-df-container {\n",
              "      display:flex;\n",
              "      flex-wrap:wrap;\n",
              "      gap: 12px;\n",
              "    }\n",
              "\n",
              "    .colab-df-convert {\n",
              "      background-color: #E8F0FE;\n",
              "      border: none;\n",
              "      border-radius: 50%;\n",
              "      cursor: pointer;\n",
              "      display: none;\n",
              "      fill: #1967D2;\n",
              "      height: 32px;\n",
              "      padding: 0 0 0 0;\n",
              "      width: 32px;\n",
              "    }\n",
              "\n",
              "    .colab-df-convert:hover {\n",
              "      background-color: #E2EBFA;\n",
              "      box-shadow: 0px 1px 2px rgba(60, 64, 67, 0.3), 0px 1px 3px 1px rgba(60, 64, 67, 0.15);\n",
              "      fill: #174EA6;\n",
              "    }\n",
              "\n",
              "    [theme=dark] .colab-df-convert {\n",
              "      background-color: #3B4455;\n",
              "      fill: #D2E3FC;\n",
              "    }\n",
              "\n",
              "    [theme=dark] .colab-df-convert:hover {\n",
              "      background-color: #434B5C;\n",
              "      box-shadow: 0px 1px 3px 1px rgba(0, 0, 0, 0.15);\n",
              "      filter: drop-shadow(0px 1px 2px rgba(0, 0, 0, 0.3));\n",
              "      fill: #FFFFFF;\n",
              "    }\n",
              "  </style>\n",
              "\n",
              "      <script>\n",
              "        const buttonEl =\n",
              "          document.querySelector('#df-e663162b-4b02-419b-8174-dc50c4cf83c1 button.colab-df-convert');\n",
              "        buttonEl.style.display =\n",
              "          google.colab.kernel.accessAllowed ? 'block' : 'none';\n",
              "\n",
              "        async function convertToInteractive(key) {\n",
              "          const element = document.querySelector('#df-e663162b-4b02-419b-8174-dc50c4cf83c1');\n",
              "          const dataTable =\n",
              "            await google.colab.kernel.invokeFunction('convertToInteractive',\n",
              "                                                     [key], {});\n",
              "          if (!dataTable) return;\n",
              "\n",
              "          const docLinkHtml = 'Like what you see? Visit the ' +\n",
              "            '<a target=\"_blank\" href=https://colab.research.google.com/notebooks/data_table.ipynb>data table notebook</a>'\n",
              "            + ' to learn more about interactive tables.';\n",
              "          element.innerHTML = '';\n",
              "          dataTable['output_type'] = 'display_data';\n",
              "          await google.colab.output.renderOutput(dataTable, element);\n",
              "          const docLink = document.createElement('div');\n",
              "          docLink.innerHTML = docLinkHtml;\n",
              "          element.appendChild(docLink);\n",
              "        }\n",
              "      </script>\n",
              "    </div>\n",
              "  </div>\n",
              "  "
            ]
          },
          "metadata": {},
          "execution_count": 2
        }
      ]
    },
    {
      "cell_type": "code",
      "source": [
        "# Get the number of columns\n",
        "n_columns = df.shape[1]\n",
        "\n",
        "# Create a dictionary with the old column names as keys and the new column names as values\n",
        "new_column_names = {old_col: 'col' + str(i) for i, old_col in enumerate(df.columns, start=1)}\n",
        "\n",
        "# Rename the columns\n",
        "df = df.rename(columns=new_column_names)\n",
        "\n",
        "print(df.columns)  # The columns will now be named 'col1', 'col2', 'col3', etc."
      ],
      "metadata": {
        "colab": {
          "base_uri": "https://localhost:8080/"
        },
        "id": "fWmlLK45ZIoP",
        "outputId": "b7c93df9-a3c3-4427-edec-85a83f7ef4cb"
      },
      "execution_count": 3,
      "outputs": [
        {
          "output_type": "stream",
          "name": "stdout",
          "text": [
            "Index(['col1', 'col2', 'col3', 'col4', 'col5', 'col6', 'col7', 'col8', 'col9',\n",
            "       'col10',\n",
            "       ...\n",
            "       'col92', 'col93', 'col94', 'col95', 'col96', 'col97', 'col98', 'col99',\n",
            "       'col100', 'col101'],\n",
            "      dtype='object', length=101)\n"
          ]
        }
      ]
    },
    {
      "cell_type": "code",
      "source": [
        "df = df.rename(columns={'col101': 'label'})"
      ],
      "metadata": {
        "id": "e4Ck7koaZpKp"
      },
      "execution_count": 4,
      "outputs": []
    },
    {
      "cell_type": "code",
      "source": [
        "df.head()"
      ],
      "metadata": {
        "colab": {
          "base_uri": "https://localhost:8080/",
          "height": 300
        },
        "id": "bqAaNrKyZKTw",
        "outputId": "4ca0812a-1e91-4ce1-eb20-e395f29d86ef"
      },
      "execution_count": 5,
      "outputs": [
        {
          "output_type": "execute_result",
          "data": {
            "text/plain": [
              "       col1     col2       col3     col4      col5     col6     col7     col8  \\\n",
              "0  0.050086  0.11158    94.0800  1.76500  0.089417  4.80470  0.26742      NaN   \n",
              "1  0.088447  2.36340     5.0580  0.14436  0.064547  2.44400  4.25450  0.36506   \n",
              "2  0.772540  0.59469        NaN  0.97515  0.015987  0.52884  1.48840  3.96100   \n",
              "3  0.382410  4.81090  1955.1000  0.46050  0.024453  2.02980  3.74030  4.22810   \n",
              "4  0.081316  4.84150     4.0507  2.48320  0.058990  2.37940  1.61270  2.04220   \n",
              "\n",
              "      col9     col10  ...    col92     col93     col94     col95     col96  \\\n",
              "0  0.56473  0.035123  ...  4.16870  0.075432  0.010869  0.063972  0.079892   \n",
              "1  1.86090  0.009759  ...  4.56130  0.046505       NaN  0.084066  0.064829   \n",
              "2  4.80630  0.048617  ...  0.12832  0.065028  0.036862  0.010010  0.020709   \n",
              "3  2.42920  0.156830  ...  4.37010  1.001100  0.065750  0.043547  0.629430   \n",
              "4  1.65710  0.039377  ...  2.68040  0.076524  0.082756  0.041953  0.018092   \n",
              "\n",
              "    col97   col98     col99    col100  label  \n",
              "0  1.9795  3.5064  0.072132  0.091950      1  \n",
              "1  3.3087  2.9969  0.064328  0.036793      0  \n",
              "2  2.5237  2.1711  0.080865  0.081553      0  \n",
              "3  4.6262  3.1947       NaN  0.187180      1  \n",
              "4  3.3041  0.1922  0.032600  0.050172      0  \n",
              "\n",
              "[5 rows x 101 columns]"
            ],
            "text/html": [
              "\n",
              "  <div id=\"df-d5abcb96-4dd9-4977-82c4-00de3d74dde6\">\n",
              "    <div class=\"colab-df-container\">\n",
              "      <div>\n",
              "<style scoped>\n",
              "    .dataframe tbody tr th:only-of-type {\n",
              "        vertical-align: middle;\n",
              "    }\n",
              "\n",
              "    .dataframe tbody tr th {\n",
              "        vertical-align: top;\n",
              "    }\n",
              "\n",
              "    .dataframe thead th {\n",
              "        text-align: right;\n",
              "    }\n",
              "</style>\n",
              "<table border=\"1\" class=\"dataframe\">\n",
              "  <thead>\n",
              "    <tr style=\"text-align: right;\">\n",
              "      <th></th>\n",
              "      <th>col1</th>\n",
              "      <th>col2</th>\n",
              "      <th>col3</th>\n",
              "      <th>col4</th>\n",
              "      <th>col5</th>\n",
              "      <th>col6</th>\n",
              "      <th>col7</th>\n",
              "      <th>col8</th>\n",
              "      <th>col9</th>\n",
              "      <th>col10</th>\n",
              "      <th>...</th>\n",
              "      <th>col92</th>\n",
              "      <th>col93</th>\n",
              "      <th>col94</th>\n",
              "      <th>col95</th>\n",
              "      <th>col96</th>\n",
              "      <th>col97</th>\n",
              "      <th>col98</th>\n",
              "      <th>col99</th>\n",
              "      <th>col100</th>\n",
              "      <th>label</th>\n",
              "    </tr>\n",
              "  </thead>\n",
              "  <tbody>\n",
              "    <tr>\n",
              "      <th>0</th>\n",
              "      <td>0.050086</td>\n",
              "      <td>0.11158</td>\n",
              "      <td>94.0800</td>\n",
              "      <td>1.76500</td>\n",
              "      <td>0.089417</td>\n",
              "      <td>4.80470</td>\n",
              "      <td>0.26742</td>\n",
              "      <td>NaN</td>\n",
              "      <td>0.56473</td>\n",
              "      <td>0.035123</td>\n",
              "      <td>...</td>\n",
              "      <td>4.16870</td>\n",
              "      <td>0.075432</td>\n",
              "      <td>0.010869</td>\n",
              "      <td>0.063972</td>\n",
              "      <td>0.079892</td>\n",
              "      <td>1.9795</td>\n",
              "      <td>3.5064</td>\n",
              "      <td>0.072132</td>\n",
              "      <td>0.091950</td>\n",
              "      <td>1</td>\n",
              "    </tr>\n",
              "    <tr>\n",
              "      <th>1</th>\n",
              "      <td>0.088447</td>\n",
              "      <td>2.36340</td>\n",
              "      <td>5.0580</td>\n",
              "      <td>0.14436</td>\n",
              "      <td>0.064547</td>\n",
              "      <td>2.44400</td>\n",
              "      <td>4.25450</td>\n",
              "      <td>0.36506</td>\n",
              "      <td>1.86090</td>\n",
              "      <td>0.009759</td>\n",
              "      <td>...</td>\n",
              "      <td>4.56130</td>\n",
              "      <td>0.046505</td>\n",
              "      <td>NaN</td>\n",
              "      <td>0.084066</td>\n",
              "      <td>0.064829</td>\n",
              "      <td>3.3087</td>\n",
              "      <td>2.9969</td>\n",
              "      <td>0.064328</td>\n",
              "      <td>0.036793</td>\n",
              "      <td>0</td>\n",
              "    </tr>\n",
              "    <tr>\n",
              "      <th>2</th>\n",
              "      <td>0.772540</td>\n",
              "      <td>0.59469</td>\n",
              "      <td>NaN</td>\n",
              "      <td>0.97515</td>\n",
              "      <td>0.015987</td>\n",
              "      <td>0.52884</td>\n",
              "      <td>1.48840</td>\n",
              "      <td>3.96100</td>\n",
              "      <td>4.80630</td>\n",
              "      <td>0.048617</td>\n",
              "      <td>...</td>\n",
              "      <td>0.12832</td>\n",
              "      <td>0.065028</td>\n",
              "      <td>0.036862</td>\n",
              "      <td>0.010010</td>\n",
              "      <td>0.020709</td>\n",
              "      <td>2.5237</td>\n",
              "      <td>2.1711</td>\n",
              "      <td>0.080865</td>\n",
              "      <td>0.081553</td>\n",
              "      <td>0</td>\n",
              "    </tr>\n",
              "    <tr>\n",
              "      <th>3</th>\n",
              "      <td>0.382410</td>\n",
              "      <td>4.81090</td>\n",
              "      <td>1955.1000</td>\n",
              "      <td>0.46050</td>\n",
              "      <td>0.024453</td>\n",
              "      <td>2.02980</td>\n",
              "      <td>3.74030</td>\n",
              "      <td>4.22810</td>\n",
              "      <td>2.42920</td>\n",
              "      <td>0.156830</td>\n",
              "      <td>...</td>\n",
              "      <td>4.37010</td>\n",
              "      <td>1.001100</td>\n",
              "      <td>0.065750</td>\n",
              "      <td>0.043547</td>\n",
              "      <td>0.629430</td>\n",
              "      <td>4.6262</td>\n",
              "      <td>3.1947</td>\n",
              "      <td>NaN</td>\n",
              "      <td>0.187180</td>\n",
              "      <td>1</td>\n",
              "    </tr>\n",
              "    <tr>\n",
              "      <th>4</th>\n",
              "      <td>0.081316</td>\n",
              "      <td>4.84150</td>\n",
              "      <td>4.0507</td>\n",
              "      <td>2.48320</td>\n",
              "      <td>0.058990</td>\n",
              "      <td>2.37940</td>\n",
              "      <td>1.61270</td>\n",
              "      <td>2.04220</td>\n",
              "      <td>1.65710</td>\n",
              "      <td>0.039377</td>\n",
              "      <td>...</td>\n",
              "      <td>2.68040</td>\n",
              "      <td>0.076524</td>\n",
              "      <td>0.082756</td>\n",
              "      <td>0.041953</td>\n",
              "      <td>0.018092</td>\n",
              "      <td>3.3041</td>\n",
              "      <td>0.1922</td>\n",
              "      <td>0.032600</td>\n",
              "      <td>0.050172</td>\n",
              "      <td>0</td>\n",
              "    </tr>\n",
              "  </tbody>\n",
              "</table>\n",
              "<p>5 rows × 101 columns</p>\n",
              "</div>\n",
              "      <button class=\"colab-df-convert\" onclick=\"convertToInteractive('df-d5abcb96-4dd9-4977-82c4-00de3d74dde6')\"\n",
              "              title=\"Convert this dataframe to an interactive table.\"\n",
              "              style=\"display:none;\">\n",
              "        \n",
              "  <svg xmlns=\"http://www.w3.org/2000/svg\" height=\"24px\"viewBox=\"0 0 24 24\"\n",
              "       width=\"24px\">\n",
              "    <path d=\"M0 0h24v24H0V0z\" fill=\"none\"/>\n",
              "    <path d=\"M18.56 5.44l.94 2.06.94-2.06 2.06-.94-2.06-.94-.94-2.06-.94 2.06-2.06.94zm-11 1L8.5 8.5l.94-2.06 2.06-.94-2.06-.94L8.5 2.5l-.94 2.06-2.06.94zm10 10l.94 2.06.94-2.06 2.06-.94-2.06-.94-.94-2.06-.94 2.06-2.06.94z\"/><path d=\"M17.41 7.96l-1.37-1.37c-.4-.4-.92-.59-1.43-.59-.52 0-1.04.2-1.43.59L10.3 9.45l-7.72 7.72c-.78.78-.78 2.05 0 2.83L4 21.41c.39.39.9.59 1.41.59.51 0 1.02-.2 1.41-.59l7.78-7.78 2.81-2.81c.8-.78.8-2.07 0-2.86zM5.41 20L4 18.59l7.72-7.72 1.47 1.35L5.41 20z\"/>\n",
              "  </svg>\n",
              "      </button>\n",
              "      \n",
              "  <style>\n",
              "    .colab-df-container {\n",
              "      display:flex;\n",
              "      flex-wrap:wrap;\n",
              "      gap: 12px;\n",
              "    }\n",
              "\n",
              "    .colab-df-convert {\n",
              "      background-color: #E8F0FE;\n",
              "      border: none;\n",
              "      border-radius: 50%;\n",
              "      cursor: pointer;\n",
              "      display: none;\n",
              "      fill: #1967D2;\n",
              "      height: 32px;\n",
              "      padding: 0 0 0 0;\n",
              "      width: 32px;\n",
              "    }\n",
              "\n",
              "    .colab-df-convert:hover {\n",
              "      background-color: #E2EBFA;\n",
              "      box-shadow: 0px 1px 2px rgba(60, 64, 67, 0.3), 0px 1px 3px 1px rgba(60, 64, 67, 0.15);\n",
              "      fill: #174EA6;\n",
              "    }\n",
              "\n",
              "    [theme=dark] .colab-df-convert {\n",
              "      background-color: #3B4455;\n",
              "      fill: #D2E3FC;\n",
              "    }\n",
              "\n",
              "    [theme=dark] .colab-df-convert:hover {\n",
              "      background-color: #434B5C;\n",
              "      box-shadow: 0px 1px 3px 1px rgba(0, 0, 0, 0.15);\n",
              "      filter: drop-shadow(0px 1px 2px rgba(0, 0, 0, 0.3));\n",
              "      fill: #FFFFFF;\n",
              "    }\n",
              "  </style>\n",
              "\n",
              "      <script>\n",
              "        const buttonEl =\n",
              "          document.querySelector('#df-d5abcb96-4dd9-4977-82c4-00de3d74dde6 button.colab-df-convert');\n",
              "        buttonEl.style.display =\n",
              "          google.colab.kernel.accessAllowed ? 'block' : 'none';\n",
              "\n",
              "        async function convertToInteractive(key) {\n",
              "          const element = document.querySelector('#df-d5abcb96-4dd9-4977-82c4-00de3d74dde6');\n",
              "          const dataTable =\n",
              "            await google.colab.kernel.invokeFunction('convertToInteractive',\n",
              "                                                     [key], {});\n",
              "          if (!dataTable) return;\n",
              "\n",
              "          const docLinkHtml = 'Like what you see? Visit the ' +\n",
              "            '<a target=\"_blank\" href=https://colab.research.google.com/notebooks/data_table.ipynb>data table notebook</a>'\n",
              "            + ' to learn more about interactive tables.';\n",
              "          element.innerHTML = '';\n",
              "          dataTable['output_type'] = 'display_data';\n",
              "          await google.colab.output.renderOutput(dataTable, element);\n",
              "          const docLink = document.createElement('div');\n",
              "          docLink.innerHTML = docLinkHtml;\n",
              "          element.appendChild(docLink);\n",
              "        }\n",
              "      </script>\n",
              "    </div>\n",
              "  </div>\n",
              "  "
            ]
          },
          "metadata": {},
          "execution_count": 5
        }
      ]
    },
    {
      "cell_type": "code",
      "source": [
        "# filling all missing values with their mean, because we only have float type columns\n",
        "df = df.apply(lambda x: x.fillna(x.mean()) if x.dtype == 'float' else x)"
      ],
      "metadata": {
        "id": "hxrrGY4vZQ3e"
      },
      "execution_count": 6,
      "outputs": []
    },
    {
      "cell_type": "code",
      "source": [
        "df.to_csv(r'/content/spam.csv', index=False) # save df to new spam.csv"
      ],
      "metadata": {
        "id": "4OHv6FNUUzpO"
      },
      "execution_count": 7,
      "outputs": []
    },
    {
      "cell_type": "code",
      "source": [
        "df2=pd.read_csv('/content/spam.csv')\n",
        "df2.head()"
      ],
      "metadata": {
        "colab": {
          "base_uri": "https://localhost:8080/",
          "height": 300
        },
        "id": "FWc5xAYrVfgc",
        "outputId": "7d04f0e3-d167-4856-8662-d08b64d87281"
      },
      "execution_count": 8,
      "outputs": [
        {
          "output_type": "execute_result",
          "data": {
            "text/plain": [
              "       col1     col2         col3     col4      col5     col6     col7  \\\n",
              "0  0.050086  0.11158    94.080000  1.76500  0.089417  4.80470  0.26742   \n",
              "1  0.088447  2.36340     5.058000  0.14436  0.064547  2.44400  4.25450   \n",
              "2  0.772540  0.59469   291.018659  0.97515  0.015987  0.52884  1.48840   \n",
              "3  0.382410  4.81090  1955.100000  0.46050  0.024453  2.02980  3.74030   \n",
              "4  0.081316  4.84150     4.050700  2.48320  0.058990  2.37940  1.61270   \n",
              "\n",
              "       col8     col9     col10  ...    col92     col93     col94     col95  \\\n",
              "0  2.550598  0.56473  0.035123  ...  4.16870  0.075432  0.010869  0.063972   \n",
              "1  0.365060  1.86090  0.009759  ...  4.56130  0.046505  0.094279  0.084066   \n",
              "2  3.961000  4.80630  0.048617  ...  0.12832  0.065028  0.036862  0.010010   \n",
              "3  4.228100  2.42920  0.156830  ...  4.37010  1.001100  0.065750  0.043547   \n",
              "4  2.042200  1.65710  0.039377  ...  2.68040  0.076524  0.082756  0.041953   \n",
              "\n",
              "      col96   col97   col98     col99    col100  label  \n",
              "0  0.079892  1.9795  3.5064  0.072132  0.091950      1  \n",
              "1  0.064829  3.3087  2.9969  0.064328  0.036793      0  \n",
              "2  0.020709  2.5237  2.1711  0.080865  0.081553      0  \n",
              "3  0.629430  4.6262  3.1947  0.182338  0.187180      1  \n",
              "4  0.018092  3.3041  0.1922  0.032600  0.050172      0  \n",
              "\n",
              "[5 rows x 101 columns]"
            ],
            "text/html": [
              "\n",
              "  <div id=\"df-0776e722-28fa-4213-b830-269172295258\">\n",
              "    <div class=\"colab-df-container\">\n",
              "      <div>\n",
              "<style scoped>\n",
              "    .dataframe tbody tr th:only-of-type {\n",
              "        vertical-align: middle;\n",
              "    }\n",
              "\n",
              "    .dataframe tbody tr th {\n",
              "        vertical-align: top;\n",
              "    }\n",
              "\n",
              "    .dataframe thead th {\n",
              "        text-align: right;\n",
              "    }\n",
              "</style>\n",
              "<table border=\"1\" class=\"dataframe\">\n",
              "  <thead>\n",
              "    <tr style=\"text-align: right;\">\n",
              "      <th></th>\n",
              "      <th>col1</th>\n",
              "      <th>col2</th>\n",
              "      <th>col3</th>\n",
              "      <th>col4</th>\n",
              "      <th>col5</th>\n",
              "      <th>col6</th>\n",
              "      <th>col7</th>\n",
              "      <th>col8</th>\n",
              "      <th>col9</th>\n",
              "      <th>col10</th>\n",
              "      <th>...</th>\n",
              "      <th>col92</th>\n",
              "      <th>col93</th>\n",
              "      <th>col94</th>\n",
              "      <th>col95</th>\n",
              "      <th>col96</th>\n",
              "      <th>col97</th>\n",
              "      <th>col98</th>\n",
              "      <th>col99</th>\n",
              "      <th>col100</th>\n",
              "      <th>label</th>\n",
              "    </tr>\n",
              "  </thead>\n",
              "  <tbody>\n",
              "    <tr>\n",
              "      <th>0</th>\n",
              "      <td>0.050086</td>\n",
              "      <td>0.11158</td>\n",
              "      <td>94.080000</td>\n",
              "      <td>1.76500</td>\n",
              "      <td>0.089417</td>\n",
              "      <td>4.80470</td>\n",
              "      <td>0.26742</td>\n",
              "      <td>2.550598</td>\n",
              "      <td>0.56473</td>\n",
              "      <td>0.035123</td>\n",
              "      <td>...</td>\n",
              "      <td>4.16870</td>\n",
              "      <td>0.075432</td>\n",
              "      <td>0.010869</td>\n",
              "      <td>0.063972</td>\n",
              "      <td>0.079892</td>\n",
              "      <td>1.9795</td>\n",
              "      <td>3.5064</td>\n",
              "      <td>0.072132</td>\n",
              "      <td>0.091950</td>\n",
              "      <td>1</td>\n",
              "    </tr>\n",
              "    <tr>\n",
              "      <th>1</th>\n",
              "      <td>0.088447</td>\n",
              "      <td>2.36340</td>\n",
              "      <td>5.058000</td>\n",
              "      <td>0.14436</td>\n",
              "      <td>0.064547</td>\n",
              "      <td>2.44400</td>\n",
              "      <td>4.25450</td>\n",
              "      <td>0.365060</td>\n",
              "      <td>1.86090</td>\n",
              "      <td>0.009759</td>\n",
              "      <td>...</td>\n",
              "      <td>4.56130</td>\n",
              "      <td>0.046505</td>\n",
              "      <td>0.094279</td>\n",
              "      <td>0.084066</td>\n",
              "      <td>0.064829</td>\n",
              "      <td>3.3087</td>\n",
              "      <td>2.9969</td>\n",
              "      <td>0.064328</td>\n",
              "      <td>0.036793</td>\n",
              "      <td>0</td>\n",
              "    </tr>\n",
              "    <tr>\n",
              "      <th>2</th>\n",
              "      <td>0.772540</td>\n",
              "      <td>0.59469</td>\n",
              "      <td>291.018659</td>\n",
              "      <td>0.97515</td>\n",
              "      <td>0.015987</td>\n",
              "      <td>0.52884</td>\n",
              "      <td>1.48840</td>\n",
              "      <td>3.961000</td>\n",
              "      <td>4.80630</td>\n",
              "      <td>0.048617</td>\n",
              "      <td>...</td>\n",
              "      <td>0.12832</td>\n",
              "      <td>0.065028</td>\n",
              "      <td>0.036862</td>\n",
              "      <td>0.010010</td>\n",
              "      <td>0.020709</td>\n",
              "      <td>2.5237</td>\n",
              "      <td>2.1711</td>\n",
              "      <td>0.080865</td>\n",
              "      <td>0.081553</td>\n",
              "      <td>0</td>\n",
              "    </tr>\n",
              "    <tr>\n",
              "      <th>3</th>\n",
              "      <td>0.382410</td>\n",
              "      <td>4.81090</td>\n",
              "      <td>1955.100000</td>\n",
              "      <td>0.46050</td>\n",
              "      <td>0.024453</td>\n",
              "      <td>2.02980</td>\n",
              "      <td>3.74030</td>\n",
              "      <td>4.228100</td>\n",
              "      <td>2.42920</td>\n",
              "      <td>0.156830</td>\n",
              "      <td>...</td>\n",
              "      <td>4.37010</td>\n",
              "      <td>1.001100</td>\n",
              "      <td>0.065750</td>\n",
              "      <td>0.043547</td>\n",
              "      <td>0.629430</td>\n",
              "      <td>4.6262</td>\n",
              "      <td>3.1947</td>\n",
              "      <td>0.182338</td>\n",
              "      <td>0.187180</td>\n",
              "      <td>1</td>\n",
              "    </tr>\n",
              "    <tr>\n",
              "      <th>4</th>\n",
              "      <td>0.081316</td>\n",
              "      <td>4.84150</td>\n",
              "      <td>4.050700</td>\n",
              "      <td>2.48320</td>\n",
              "      <td>0.058990</td>\n",
              "      <td>2.37940</td>\n",
              "      <td>1.61270</td>\n",
              "      <td>2.042200</td>\n",
              "      <td>1.65710</td>\n",
              "      <td>0.039377</td>\n",
              "      <td>...</td>\n",
              "      <td>2.68040</td>\n",
              "      <td>0.076524</td>\n",
              "      <td>0.082756</td>\n",
              "      <td>0.041953</td>\n",
              "      <td>0.018092</td>\n",
              "      <td>3.3041</td>\n",
              "      <td>0.1922</td>\n",
              "      <td>0.032600</td>\n",
              "      <td>0.050172</td>\n",
              "      <td>0</td>\n",
              "    </tr>\n",
              "  </tbody>\n",
              "</table>\n",
              "<p>5 rows × 101 columns</p>\n",
              "</div>\n",
              "      <button class=\"colab-df-convert\" onclick=\"convertToInteractive('df-0776e722-28fa-4213-b830-269172295258')\"\n",
              "              title=\"Convert this dataframe to an interactive table.\"\n",
              "              style=\"display:none;\">\n",
              "        \n",
              "  <svg xmlns=\"http://www.w3.org/2000/svg\" height=\"24px\"viewBox=\"0 0 24 24\"\n",
              "       width=\"24px\">\n",
              "    <path d=\"M0 0h24v24H0V0z\" fill=\"none\"/>\n",
              "    <path d=\"M18.56 5.44l.94 2.06.94-2.06 2.06-.94-2.06-.94-.94-2.06-.94 2.06-2.06.94zm-11 1L8.5 8.5l.94-2.06 2.06-.94-2.06-.94L8.5 2.5l-.94 2.06-2.06.94zm10 10l.94 2.06.94-2.06 2.06-.94-2.06-.94-.94-2.06-.94 2.06-2.06.94z\"/><path d=\"M17.41 7.96l-1.37-1.37c-.4-.4-.92-.59-1.43-.59-.52 0-1.04.2-1.43.59L10.3 9.45l-7.72 7.72c-.78.78-.78 2.05 0 2.83L4 21.41c.39.39.9.59 1.41.59.51 0 1.02-.2 1.41-.59l7.78-7.78 2.81-2.81c.8-.78.8-2.07 0-2.86zM5.41 20L4 18.59l7.72-7.72 1.47 1.35L5.41 20z\"/>\n",
              "  </svg>\n",
              "      </button>\n",
              "      \n",
              "  <style>\n",
              "    .colab-df-container {\n",
              "      display:flex;\n",
              "      flex-wrap:wrap;\n",
              "      gap: 12px;\n",
              "    }\n",
              "\n",
              "    .colab-df-convert {\n",
              "      background-color: #E8F0FE;\n",
              "      border: none;\n",
              "      border-radius: 50%;\n",
              "      cursor: pointer;\n",
              "      display: none;\n",
              "      fill: #1967D2;\n",
              "      height: 32px;\n",
              "      padding: 0 0 0 0;\n",
              "      width: 32px;\n",
              "    }\n",
              "\n",
              "    .colab-df-convert:hover {\n",
              "      background-color: #E2EBFA;\n",
              "      box-shadow: 0px 1px 2px rgba(60, 64, 67, 0.3), 0px 1px 3px 1px rgba(60, 64, 67, 0.15);\n",
              "      fill: #174EA6;\n",
              "    }\n",
              "\n",
              "    [theme=dark] .colab-df-convert {\n",
              "      background-color: #3B4455;\n",
              "      fill: #D2E3FC;\n",
              "    }\n",
              "\n",
              "    [theme=dark] .colab-df-convert:hover {\n",
              "      background-color: #434B5C;\n",
              "      box-shadow: 0px 1px 3px 1px rgba(0, 0, 0, 0.15);\n",
              "      filter: drop-shadow(0px 1px 2px rgba(0, 0, 0, 0.3));\n",
              "      fill: #FFFFFF;\n",
              "    }\n",
              "  </style>\n",
              "\n",
              "      <script>\n",
              "        const buttonEl =\n",
              "          document.querySelector('#df-0776e722-28fa-4213-b830-269172295258 button.colab-df-convert');\n",
              "        buttonEl.style.display =\n",
              "          google.colab.kernel.accessAllowed ? 'block' : 'none';\n",
              "\n",
              "        async function convertToInteractive(key) {\n",
              "          const element = document.querySelector('#df-0776e722-28fa-4213-b830-269172295258');\n",
              "          const dataTable =\n",
              "            await google.colab.kernel.invokeFunction('convertToInteractive',\n",
              "                                                     [key], {});\n",
              "          if (!dataTable) return;\n",
              "\n",
              "          const docLinkHtml = 'Like what you see? Visit the ' +\n",
              "            '<a target=\"_blank\" href=https://colab.research.google.com/notebooks/data_table.ipynb>data table notebook</a>'\n",
              "            + ' to learn more about interactive tables.';\n",
              "          element.innerHTML = '';\n",
              "          dataTable['output_type'] = 'display_data';\n",
              "          await google.colab.output.renderOutput(dataTable, element);\n",
              "          const docLink = document.createElement('div');\n",
              "          docLink.innerHTML = docLinkHtml;\n",
              "          element.appendChild(docLink);\n",
              "        }\n",
              "      </script>\n",
              "    </div>\n",
              "  </div>\n",
              "  "
            ]
          },
          "metadata": {},
          "execution_count": 8
        }
      ]
    },
    {
      "cell_type": "markdown",
      "source": [
        "## Create Spark Session"
      ],
      "metadata": {
        "id": "a5Lf3lM_Ul5q"
      }
    },
    {
      "cell_type": "code",
      "source": [
        "from pyspark.conf import SparkConf\n",
        "\n",
        "spark=SparkSession.builder\\\n",
        "    .master(\"local\")\\\n",
        "    .appName(\"SpamDetector\")\\\n",
        "    .getOrCreate()\n",
        "sc=spark.sparkContext"
      ],
      "metadata": {
        "id": "2qrqTEGhUg6s"
      },
      "execution_count": 9,
      "outputs": []
    },
    {
      "cell_type": "markdown",
      "source": [
        "## Preparing the Data"
      ],
      "metadata": {
        "id": "pg_ccwInUqOn"
      }
    },
    {
      "cell_type": "code",
      "source": [
        "spark_df = spark.read.csv(\"/content/spam.csv\",header=True,inferSchema=True,sep=\",\")\n",
        "#inferSchema = True, helps so that every column is not a string\n",
        "#header = True, takes the column names into the df, other wise the column names will be c0, c1..."
      ],
      "metadata": {
        "id": "2HZOVwPvUpXn"
      },
      "execution_count": 10,
      "outputs": []
    },
    {
      "cell_type": "code",
      "source": [
        "spark_df.show(5)"
      ],
      "metadata": {
        "colab": {
          "base_uri": "https://localhost:8080/"
        },
        "id": "muhkHgXyVIGh",
        "outputId": "6310c253-37cc-4e8f-ffa7-abb9e77935da"
      },
      "execution_count": 11,
      "outputs": [
        {
          "output_type": "stream",
          "name": "stdout",
          "text": [
            "+--------+-------+------------------+-------+--------+-------+-------+-----------------+-------+---------+-------+------+--------+------+------+-------+---------+------+------+--------+--------+--------+------------------+--------+--------+------+-------+--------+--------+------+--------+--------+--------+---------+-------+------+---------+------------------+------------------+--------+------+-------+--------+-------+------+------------------+--------+-------+--------+--------+-------+-------------------+--------+--------+------------------+------+--------+------+--------+---------+---------+--------+--------+--------+---------+-------+-------+-------+--------+--------+-------+-------+---------+---------+------------------+--------+------------------+-------+--------+--------+-------+--------+-------+--------+------------------+------+-------+--------+--------+--------+--------+-------+--------+-------------------+--------+--------+------+------+-------------------+--------+-----+\n",
            "|    col1|   col2|              col3|   col4|    col5|   col6|   col7|             col8|   col9|    col10|  col11| col12|   col13| col14| col15|  col16|    col17| col18| col19|   col20|   col21|   col22|             col23|   col24|   col25| col26|  col27|   col28|   col29| col30|   col31|   col32|   col33|    col34|  col35| col36|    col37|             col38|             col39|   col40| col41|  col42|   col43|  col44| col45|             col46|   col47|  col48|   col49|   col50|  col51|              col52|   col53|   col54|             col55| col56|   col57| col58|   col59|    col60|    col61|   col62|   col63|   col64|    col65|  col66|  col67|  col68|   col69|   col70|  col71|  col72|    col73|    col74|             col75|   col76|             col77|  col78|   col79|   col80|  col81|   col82|  col83|   col84|             col85| col86|  col87|   col88|   col89|   col90|   col91|  col92|   col93|              col94|   col95|   col96| col97| col98|              col99|  col100|label|\n",
            "+--------+-------+------------------+-------+--------+-------+-------+-----------------+-------+---------+-------+------+--------+------+------+-------+---------+------+------+--------+--------+--------+------------------+--------+--------+------+-------+--------+--------+------+--------+--------+--------+---------+-------+------+---------+------------------+------------------+--------+------+-------+--------+-------+------+------------------+--------+-------+--------+--------+-------+-------------------+--------+--------+------------------+------+--------+------+--------+---------+---------+--------+--------+--------+---------+-------+-------+-------+--------+--------+-------+-------+---------+---------+------------------+--------+------------------+-------+--------+--------+-------+--------+-------+--------+------------------+------+-------+--------+--------+--------+--------+-------+--------+-------------------+--------+--------+------+------+-------------------+--------+-----+\n",
            "|0.050086|0.11158|             94.08|  1.765|0.089417| 4.8047|0.26742|2.550597661512027|0.56473| 0.035123| 1.4827|2.5929| 0.22398|3.9993|3.4247| 1.7945| 0.070337|0.7135|1.1426|0.018661| 0.06512|0.081132|2.5249701369863016|0.060869|0.083399|2.1228|0.73517|0.096963|0.011055| 3.951| 0.09111|0.018081|0.038182| 0.017668|0.91469|41.014|    3.707|            2.0693|            4.9571|0.016032|4.3729| 3.2356|0.092688|0.22587|6.3327|            2.5621|  0.0305| 4.1712|0.043128|  1.8959|0.19076|            0.04998| 0.96831|0.095265|            4.9342|3.6403|0.085841|2.5845|0.038742|3.1918E-4| 0.052713|0.019645|0.094237|0.036511| 0.071179|0.23586| 4.0732| 1.2444|0.094579| 0.93198| 2.3565|0.82129| 0.049131|  0.02701|            1.8648|0.011165|          0.048432| 0.7312|0.099694| 0.16896| 1.6389|  2.7395|0.55716|0.070742|          0.022589|1.6064| 3.0345|0.063698| 0.95168|0.065822|0.054712| 4.1687|0.075432|           0.010869|0.063972|0.079892|1.9795|3.5064|           0.072132| 0.09195|    1|\n",
            "|0.088447| 2.3634|             5.058|0.14436|0.064547|  2.444| 4.2545|          0.36506| 1.8609|0.0097593| 3.5075|3.6126| 0.01972|2.2723|1.1937| 1.0369| 0.086313|1.5003|2.3868|0.052785| 0.08795|0.067695|             1.466|0.024131|0.035304| 1.445|  3.839|3.252E-4|0.092129|4.7438|0.033202|0.083371|0.014163| 0.055091| 5.0602|1.0771|0.0039658|            4.0361|2.4418348252595155|0.019126|1.9285|0.77643|0.018482| 4.5763|1.0067|            1.5745|  0.0547|0.34146|0.048967| 0.01956| 2.0155|            0.07208|0.087619|0.094343|            3.9453|0.5248|0.082408|1.3841|0.032529|  0.02405|9.9099E-4| 0.06766|0.023938|0.090783| 0.003342| 2.9558| 3.8611| 3.7686|0.071469|0.089305| 1.7302| 3.7683| 0.047478| 0.090466|            5.0165|0.088609|         0.0036006| 1.0453| 0.03231|0.090294| 5.0259|0.081161| 1.0509|0.015816|            20.088|  1.07| 4.3468|0.061113|0.073222|0.098675|0.017203| 4.5613|0.046505|0.09427907471403812|0.084066|0.064829|3.3087|2.9969|           0.064328|0.036793|    0|\n",
            "| 0.77254|0.59469|291.01865924006904|0.97515|0.015987|0.52884| 1.4884|            3.961| 4.8063| 0.048617| 2.7212|2.5029|0.023355|4.5088|3.1327| 3.8627| 0.090923|4.3838|2.1928|0.026211|0.099073|0.019689|            2.2198|0.042799|0.037704|4.1482| 4.0718|0.017883|0.092244|3.6523|0.010751|0.055596|0.015418| 0.093861|0.94272|1.0224|   7.5641|            2.6595|            1.4756| 0.77209|2.9316| 1.8214|0.036775| 3.8538|1.0653|2.6246407405498284|   0.039| 4.5147|0.088371|0.098904| 4.1317|           0.020435| 0.36422|0.049476|             0.405|3.1788|0.040688|2.2262|0.050689|0.0055853| 0.087453|0.022281|0.041949|0.022086|0.0082986|  2.941|0.98445|0.91658|0.050185|0.040575| 1.5254| 1.2796| 0.014323|0.0049586|            0.9157|0.019139|0.2856752121256454| 3.4943|0.081137|0.016771|0.13016|  1.0637| 4.9441|   0.377|          0.041079|1.5943| 4.6241| 0.40708|0.051634|0.057662|0.022891|0.12832|0.065028|           0.036862| 0.01001|0.020709|2.5237|2.1711|           0.080865|0.081553|    0|\n",
            "| 0.38241| 4.8109|            1955.1| 0.4605|0.024453| 2.0298| 3.7403|           4.2281| 2.4292|  0.15683| 4.6799|1.2061| 0.16048|4.3383|1.7294| 4.1555|0.0042596| 4.925|4.3986|0.070821|0.034121|0.087522|           0.17924|0.097594| 0.31043|5.0021|0.79369| 0.10047| 0.13413|3.0778|0.053728|0.066446| 0.39144| 0.028428| 3.1873|181.06|   2.7944|2.5689823137931036|            1.3476|  0.6469|4.6828| 3.8963| 0.07296| 0.6109|3.3776|           0.29307|0.083117| 4.0029|  0.3698| 0.39722| 4.2858|0.12665729751295338|0.066497| 0.75469|            2.8442|3.9069|0.066547|3.6738|0.093712| 0.026305|  0.18615|0.049486|0.042992| 0.25642|  0.29486|  1.287|0.80866|0.42315|0.094649| 0.21758| 2.7112|  2.147|  0.43017| 0.042579|2.5289998293103446|0.043946|           0.06705| 4.9796|0.061703| 0.47857| 1.7065|  1.4378|  3.829| 0.40563|0.8264100620571924|1.6429| 4.7505| 0.37756| 0.52042|0.038938|0.032051| 4.3701|  1.0011|            0.06575|0.043547| 0.62943|4.6262|3.1947|0.18233786705172414| 0.18718|    1|\n",
            "|0.081316| 4.8415|            4.0507| 2.4832| 0.05899| 2.3794| 1.6127|           2.0422| 1.6571| 0.039377|0.65003|2.4241|0.083921|3.2717|1.2791|0.76711| 0.077046|4.0043|4.4889|0.017876|0.034194|0.051383|           0.10942|0.033228|0.073198|3.8304|0.97449|0.031858|0.064099| 4.537|0.031019|0.054224|0.059163|0.0089454| 2.3442| 1.086| 0.039963|            1.4863|           0.71081| 0.09704|3.4237| 1.3726|0.079467| 2.1721|1.0799|             1.646|0.031722| 4.0762|0.066266|0.022077|0.75201|           0.037699|0.086819|0.089568|2.5328794461805555|2.4755|0.098918|2.8581|0.068503| 0.038058| 0.058369|0.053831|0.042403|0.037323| 0.059348| 3.7692| 2.3673| 2.4747|0.028761|0.013585|0.75453| 1.3013|0.0023164|5.9529E-4|            3.5942|0.023379|          0.003272|0.96592|0.025424|0.092793| 2.6938|0.096934|0.26088|0.063095|          0.024237|1.8117|0.72178|0.041385|0.033927|0.091891|0.018918| 2.6804|0.076524|           0.082756|0.041953|0.018092|3.3041|0.1922|             0.0326|0.050172|    0|\n",
            "+--------+-------+------------------+-------+--------+-------+-------+-----------------+-------+---------+-------+------+--------+------+------+-------+---------+------+------+--------+--------+--------+------------------+--------+--------+------+-------+--------+--------+------+--------+--------+--------+---------+-------+------+---------+------------------+------------------+--------+------+-------+--------+-------+------+------------------+--------+-------+--------+--------+-------+-------------------+--------+--------+------------------+------+--------+------+--------+---------+---------+--------+--------+--------+---------+-------+-------+-------+--------+--------+-------+-------+---------+---------+------------------+--------+------------------+-------+--------+--------+-------+--------+-------+--------+------------------+------+-------+--------+--------+--------+--------+-------+--------+-------------------+--------+--------+------+------+-------------------+--------+-----+\n",
            "only showing top 5 rows\n",
            "\n"
          ]
        }
      ]
    },
    {
      "cell_type": "code",
      "source": [
        "spark_df.printSchema()"
      ],
      "metadata": {
        "colab": {
          "base_uri": "https://localhost:8080/"
        },
        "id": "JJaUMwFCVprz",
        "outputId": "102f5cc7-9c00-4df3-b7bc-4595d8986336"
      },
      "execution_count": 12,
      "outputs": [
        {
          "output_type": "stream",
          "name": "stdout",
          "text": [
            "root\n",
            " |-- col1: double (nullable = true)\n",
            " |-- col2: double (nullable = true)\n",
            " |-- col3: double (nullable = true)\n",
            " |-- col4: double (nullable = true)\n",
            " |-- col5: double (nullable = true)\n",
            " |-- col6: double (nullable = true)\n",
            " |-- col7: double (nullable = true)\n",
            " |-- col8: double (nullable = true)\n",
            " |-- col9: double (nullable = true)\n",
            " |-- col10: double (nullable = true)\n",
            " |-- col11: double (nullable = true)\n",
            " |-- col12: double (nullable = true)\n",
            " |-- col13: double (nullable = true)\n",
            " |-- col14: double (nullable = true)\n",
            " |-- col15: double (nullable = true)\n",
            " |-- col16: double (nullable = true)\n",
            " |-- col17: double (nullable = true)\n",
            " |-- col18: double (nullable = true)\n",
            " |-- col19: double (nullable = true)\n",
            " |-- col20: double (nullable = true)\n",
            " |-- col21: double (nullable = true)\n",
            " |-- col22: double (nullable = true)\n",
            " |-- col23: double (nullable = true)\n",
            " |-- col24: double (nullable = true)\n",
            " |-- col25: double (nullable = true)\n",
            " |-- col26: double (nullable = true)\n",
            " |-- col27: double (nullable = true)\n",
            " |-- col28: double (nullable = true)\n",
            " |-- col29: double (nullable = true)\n",
            " |-- col30: double (nullable = true)\n",
            " |-- col31: double (nullable = true)\n",
            " |-- col32: double (nullable = true)\n",
            " |-- col33: double (nullable = true)\n",
            " |-- col34: double (nullable = true)\n",
            " |-- col35: double (nullable = true)\n",
            " |-- col36: double (nullable = true)\n",
            " |-- col37: double (nullable = true)\n",
            " |-- col38: double (nullable = true)\n",
            " |-- col39: double (nullable = true)\n",
            " |-- col40: double (nullable = true)\n",
            " |-- col41: double (nullable = true)\n",
            " |-- col42: double (nullable = true)\n",
            " |-- col43: double (nullable = true)\n",
            " |-- col44: double (nullable = true)\n",
            " |-- col45: double (nullable = true)\n",
            " |-- col46: double (nullable = true)\n",
            " |-- col47: double (nullable = true)\n",
            " |-- col48: double (nullable = true)\n",
            " |-- col49: double (nullable = true)\n",
            " |-- col50: double (nullable = true)\n",
            " |-- col51: double (nullable = true)\n",
            " |-- col52: double (nullable = true)\n",
            " |-- col53: double (nullable = true)\n",
            " |-- col54: double (nullable = true)\n",
            " |-- col55: double (nullable = true)\n",
            " |-- col56: double (nullable = true)\n",
            " |-- col57: double (nullable = true)\n",
            " |-- col58: double (nullable = true)\n",
            " |-- col59: double (nullable = true)\n",
            " |-- col60: double (nullable = true)\n",
            " |-- col61: double (nullable = true)\n",
            " |-- col62: double (nullable = true)\n",
            " |-- col63: double (nullable = true)\n",
            " |-- col64: double (nullable = true)\n",
            " |-- col65: double (nullable = true)\n",
            " |-- col66: double (nullable = true)\n",
            " |-- col67: double (nullable = true)\n",
            " |-- col68: double (nullable = true)\n",
            " |-- col69: double (nullable = true)\n",
            " |-- col70: double (nullable = true)\n",
            " |-- col71: double (nullable = true)\n",
            " |-- col72: double (nullable = true)\n",
            " |-- col73: double (nullable = true)\n",
            " |-- col74: double (nullable = true)\n",
            " |-- col75: double (nullable = true)\n",
            " |-- col76: double (nullable = true)\n",
            " |-- col77: double (nullable = true)\n",
            " |-- col78: double (nullable = true)\n",
            " |-- col79: double (nullable = true)\n",
            " |-- col80: double (nullable = true)\n",
            " |-- col81: double (nullable = true)\n",
            " |-- col82: double (nullable = true)\n",
            " |-- col83: double (nullable = true)\n",
            " |-- col84: double (nullable = true)\n",
            " |-- col85: double (nullable = true)\n",
            " |-- col86: double (nullable = true)\n",
            " |-- col87: double (nullable = true)\n",
            " |-- col88: double (nullable = true)\n",
            " |-- col89: double (nullable = true)\n",
            " |-- col90: double (nullable = true)\n",
            " |-- col91: double (nullable = true)\n",
            " |-- col92: double (nullable = true)\n",
            " |-- col93: double (nullable = true)\n",
            " |-- col94: double (nullable = true)\n",
            " |-- col95: double (nullable = true)\n",
            " |-- col96: double (nullable = true)\n",
            " |-- col97: double (nullable = true)\n",
            " |-- col98: double (nullable = true)\n",
            " |-- col99: double (nullable = true)\n",
            " |-- col100: double (nullable = true)\n",
            " |-- label: integer (nullable = true)\n",
            "\n"
          ]
        }
      ]
    },
    {
      "cell_type": "code",
      "source": [
        "spark_df.describe().show()"
      ],
      "metadata": {
        "colab": {
          "base_uri": "https://localhost:8080/"
        },
        "id": "6qp6yUXzVzvb",
        "outputId": "d606f28b-a262-4600-ecd3-19b6d3154fd4"
      },
      "execution_count": 13,
      "outputs": [
        {
          "output_type": "stream",
          "name": "stdout",
          "text": [
            "+-------+------------------+------------------+-----------------+------------------+-------------------+------------------+------------------+------------------+-----------------+-------------------+------------------+------------------+-------------------+------------------+------------------+------------------+------------------+------------------+------------------+------------------+-------------------+-------------------+------------------+-------------------+-------------------+------------------+------------------+------------------+-------------------+------------------+-------------------+-------------------+------------------+-------------------+------------------+------------------+------------------+-----------------+------------------+------------------+------------------+------------------+-------------------+------------------+------------------+-----------------+------------------+------------------+-------------------+-------------------+------------------+-------------------+------------------+-------------------+-----------------+------------------+------------------+------------------+-------------------+-------------------+-------------------+------------------+------------------+-------------------+-------------------+------------------+-----------------+------------------+-------------------+-------------------+------------------+------------------+-------------------+-------------------+------------------+-------------------+-------------------+------------------+-------------------+------------------+------------------+-----------------+-----------------+-------------------+------------------+------------------+------------------+-------------------+------------------+-------------------+-------------------+------------------+------------------+-------------------+------------------+------------------+------------------+------------------+------------------+------------------+-------------------+\n",
            "|summary|              col1|              col2|             col3|              col4|               col5|              col6|              col7|              col8|             col9|              col10|             col11|             col12|              col13|             col14|             col15|             col16|             col17|             col18|             col19|             col20|              col21|              col22|             col23|              col24|              col25|             col26|             col27|             col28|              col29|             col30|              col31|              col32|             col33|              col34|             col35|             col36|             col37|            col38|             col39|             col40|             col41|             col42|              col43|             col44|             col45|            col46|             col47|             col48|              col49|              col50|             col51|              col52|             col53|              col54|            col55|             col56|             col57|             col58|              col59|              col60|              col61|             col62|             col63|              col64|              col65|             col66|            col67|             col68|              col69|              col70|             col71|             col72|              col73|              col74|             col75|              col76|              col77|             col78|              col79|             col80|             col81|            col82|            col83|              col84|             col85|             col86|             col87|              col88|             col89|              col90|              col91|             col92|             col93|              col94|             col95|             col96|             col97|             col98|             col99|            col100|              label|\n",
            "+-------+------------------+------------------+-----------------+------------------+-------------------+------------------+------------------+------------------+-----------------+-------------------+------------------+------------------+-------------------+------------------+------------------+------------------+------------------+------------------+------------------+------------------+-------------------+-------------------+------------------+-------------------+-------------------+------------------+------------------+------------------+-------------------+------------------+-------------------+-------------------+------------------+-------------------+------------------+------------------+------------------+-----------------+------------------+------------------+------------------+------------------+-------------------+------------------+------------------+-----------------+------------------+------------------+-------------------+-------------------+------------------+-------------------+------------------+-------------------+-----------------+------------------+------------------+------------------+-------------------+-------------------+-------------------+------------------+------------------+-------------------+-------------------+------------------+-----------------+------------------+-------------------+-------------------+------------------+------------------+-------------------+-------------------+------------------+-------------------+-------------------+------------------+-------------------+------------------+------------------+-----------------+-----------------+-------------------+------------------+------------------+------------------+-------------------+------------------+-------------------+-------------------+------------------+------------------+-------------------+------------------+------------------+------------------+------------------+------------------+------------------+-------------------+\n",
            "|  count|               599|               599|              599|               599|                599|               599|               599|               599|              599|                599|               599|               599|                599|               599|               599|               599|               599|               599|               599|               599|                599|                599|               599|                599|                599|               599|               599|               599|                599|               599|                599|                599|               599|                599|               599|               599|               599|              599|               599|               599|               599|               599|                599|               599|               599|              599|               599|               599|                599|                599|               599|                599|               599|                599|              599|               599|               599|               599|                599|                599|                599|               599|               599|                599|                599|               599|              599|               599|                599|                599|               599|               599|                599|                599|               599|                599|                599|               599|                599|               599|               599|              599|              599|                599|               599|               599|               599|                599|               599|                599|                599|               599|               599|                599|               599|               599|               599|               599|               599|               599|                599|\n",
            "|   mean|0.3269268080136987|2.5601680152801385|291.0186592400692|2.6468793868739224|  0.182357438606272| 2.513011442538594| 2.644158327645051|2.5505976615120294| 2.50249058275862|0.12813719993103445|2.5164232918088736|2.7175686552315637|0.12968564745299138| 2.517682753472219| 2.619193793706294| 2.576820490394511|0.6566772064540725|2.5227350374787036|2.5516946271477687| 0.141031675034602|0.13137238326460468|0.06619423034602069|2.5249701369863002|0.13807462640103257|0.15603957445017186| 2.548291062711866| 2.496051908006813|0.1283829753184165|0.21915910395547947|2.4944988186528514|0.15597810184347835|0.14747584480206563|0.1908805713050848|0.07407246291808871|2.5711463029259902| 48.46470154639173|1.7346800913344886|2.568982313793104|2.4418348252595177|0.5657413069572652| 2.548669153979239|2.5675139930915387|0.13263977532423224|2.4541520726643586| 4.655230085470081| 2.62464074054983|0.1814269394071551|2.5774477504273507|0.11516932531755134|0.24633628896081786|2.5256976900684927|0.12665729751295343|0.3145138028124999|0.12485443526962456|2.532879446180552|  2.55645942733564|0.3559430903925041| 2.644022884083047|0.10305123195540321|0.19109350815672932| 0.0951632926470588|0.1245020890630323|0.1761625412969282|0.35391842895904413|0.08907746990500863| 2.560379348958335|2.544435461139898|2.5205596412478335|0.17389592505308213|0.22427057724612762|2.5801425199306722|2.5532170426621152|0.14639995688435378|0.05454161400341302| 2.528999829310345|0.21412942987889255|0.28567521212564545| 2.502183838209979|0.09674868544194105|0.3373581215502555|2.5131457602739697|0.976628797694973|2.619021913941481|0.15820498304123717|0.8264100620571924| 2.569923032758622| 2.631860991394145|0.31093690766211607|0.3682904762742758|0.06940403162905981|0.08337173283737018|2.5307783818493137|0.1743167339794167|0.09427907471403814|0.1747302707719299|0.1119538889003436|2.5383036449399667|2.6032331617900164|0.1823378670517241|0.1524189689860385|0.42237061769616024|\n",
            "| stddev|0.5387805931382255|1.4219216738463045|611.3508643968755|1.4217534144875876|0.41234526798595583|1.4296018516046223|1.4571566891163974| 1.429528999799374|1.429220906157178| 0.3808613804520233| 1.476593460479743|1.4160604080498462|0.23954128067244365|1.4059963648375642|1.3682551164203889|1.4360507948995476| 1.830821824479716|1.4509519853425703| 1.404331118519326|0.5553262151809558|0.45710468517253555| 0.1218946481235958|1.4408466180091806|0.46123388464531195| 0.3434666760965508|1.4540298966108736|1.4290892572220721| 1.751724580044962|0.32919010738122045| 1.371233965580125| 0.3564769567289574| 0.4767980525432567|0.4336348813769065|0.18996851985078897|1.4141621603905885|108.72164320623408|1.6294458720993323|1.407245653230067|1.4588394762345658|0.8492035739124926|1.4422582460371596|1.4144735619250037| 0.4535994629643737|1.4208695702079122|15.505272388769916|1.423243669117967|1.1705866059784826|1.3963867969431554|0.37076998717139675| 0.5596461378753788|1.4723178563313395|  0.447853100405176|0.8918508874687293|0.25134265167465786|1.418386197993009|1.3721538351765519|0.9436794939524875|1.4296090133504982| 0.5628652031881496| 0.8385266642813084|0.16546635263865997|0.3238712672265609|0.5276162984633157| 0.5913275901949319| 0.2600349988126771|1.4126771196738936|1.418104293052667| 1.443180035798029| 0.5049955515296627| 0.9228712238932916|1.4314445334430828| 1.432172233718675| 0.3441647430832716|0.06759471528727175|1.3846765362672688|  0.724048806181434| 1.3459327915636983|1.4607058064419074|0.20385409884699884|0.6374107373232295|1.4375113722008188|1.293875434133329|1.394164906151484| 0.3054120922006911| 3.287831764238722|1.4223966443893268|1.4085885320937224| 0.6437764365235269|1.1173395578960665|0.30159386045565656|0.19075303602348606|1.4247572522134506|0.6030763109861218|0.36045438556069503|0.5508044184257284|0.2142996878846422|1.4399209733620948|1.3989915609725425|0.5505762066855093|0.2965362271440303|0.49434973626364204|\n",
            "|    min|          4.455E-4|          0.055685|           1.0078|          0.032513|          1.0027E-4|           0.01435|          0.016254|          0.039126|         0.036541|           9.015E-5|          0.015709|          0.028455|          1.6043E-4|          0.045533|          0.011802|         0.0069149|         3.6324E-5|          0.019814|          0.037994|          3.647E-4|           1.803E-5|          3.4461E-4|          0.031361|          3.9829E-5|          2.5953E-4|          0.049962|          0.015321|         2.3089E-4|          3.3714E-4|          0.030179|           2.545E-4|           2.488E-5|         2.3571E-4|          1.7403E-4|          0.024202|            1.0028|         0.0019572|         0.045249|          0.027106|         2.8717E-4|          0.029325|          0.027913|          2.3124E-4|          0.048761|             1.003|         0.055988|         1.9552E-5|          0.020166|          2.3545E-7|          3.6377E-4|          0.033826|          3.9256E-4|         1.2563E-4|          4.7818E-5|         0.029319|          0.031114|         6.4304E-6|          0.025521|          2.5971E-4|          6.0138E-5|          1.8691E-4|         5.7378E-4|         1.7411E-4|          5.0044E-4|          1.6151E-5|          0.066654|         0.039396|          0.071525|          5.1621E-5|          3.4715E-4|          0.013452|          0.048588|          5.7448E-5|          4.6846E-5|          0.027164|          1.8036E-4|          6.7705E-5|          0.019127|           0.001022|          2.899E-4|          0.048308|        1.1875E-4|          0.05989|          3.8073E-4|         9.9877E-5|          0.095006|           0.04773|          2.0209E-4|         2.6803E-5|          1.4583E-5|          2.0907E-4|          0.020904|         1.7792E-4|          1.3068E-4|         3.3844E-4|         4.4664E-4|           0.02007|          0.045843|         5.5269E-4|         1.8125E-5|                  0|\n",
            "|    max|            5.1766|            5.0644|           9163.1|            5.0921|              4.605|            5.0882|            5.0566|            5.0888|           5.0723|             4.3478|            5.0772|            5.0844|             4.0844|            5.0826|            5.0281|            5.0839|             20.83|             5.054|            5.0532|            8.1988|             4.8506|             2.8333|            5.0571|             4.8318|               4.07|             5.062|            5.0815|            42.889|             5.3085|            5.0782|              4.077|             4.8362|            3.7729|              3.734|            5.0888|            1146.1|             9.772|           5.0628|            5.0782|            6.2946|            5.0707|            5.0697|             4.8564|            5.0595|             337.3|           5.0657|            17.158|            5.0471|             5.5979|             4.8874|             5.089|             7.2162|            16.709|             3.6318|           5.0476|            5.0486|            7.4492|              5.04|             13.136|             11.189|             2.0511|            2.8916|            4.8579|             6.3135|             4.5026|             5.039|           5.0811|             5.065|              4.843|             14.366|            5.0771|            5.0541|             5.3134|            0.97893|            5.0433|             9.1411|             22.079|            5.0477|             2.2943|            8.3813|            5.0471|           11.139|           5.0346|             2.8938|            33.361|            5.0506|            5.0407|              5.348|            20.081|             6.5338|             3.8387|            5.0583|             11.12|             7.2084|            5.2179|            2.3834|            5.0737|            5.0819|            7.6934|            3.5881|                  1|\n",
            "+-------+------------------+------------------+-----------------+------------------+-------------------+------------------+------------------+------------------+-----------------+-------------------+------------------+------------------+-------------------+------------------+------------------+------------------+------------------+------------------+------------------+------------------+-------------------+-------------------+------------------+-------------------+-------------------+------------------+------------------+------------------+-------------------+------------------+-------------------+-------------------+------------------+-------------------+------------------+------------------+------------------+-----------------+------------------+------------------+------------------+------------------+-------------------+------------------+------------------+-----------------+------------------+------------------+-------------------+-------------------+------------------+-------------------+------------------+-------------------+-----------------+------------------+------------------+------------------+-------------------+-------------------+-------------------+------------------+------------------+-------------------+-------------------+------------------+-----------------+------------------+-------------------+-------------------+------------------+------------------+-------------------+-------------------+------------------+-------------------+-------------------+------------------+-------------------+------------------+------------------+-----------------+-----------------+-------------------+------------------+------------------+------------------+-------------------+------------------+-------------------+-------------------+------------------+------------------+-------------------+------------------+------------------+------------------+------------------+------------------+------------------+-------------------+\n",
            "\n"
          ]
        }
      ]
    },
    {
      "cell_type": "code",
      "source": [
        "spark_df.groupby(\"label\").count().show()"
      ],
      "metadata": {
        "colab": {
          "base_uri": "https://localhost:8080/"
        },
        "id": "zOHxtc2LV16q",
        "outputId": "a9322c48-9287-4d8b-e38a-2cf6f3e355d8"
      },
      "execution_count": 14,
      "outputs": [
        {
          "output_type": "stream",
          "name": "stdout",
          "text": [
            "+-----+-----+\n",
            "|label|count|\n",
            "+-----+-----+\n",
            "|    1|  253|\n",
            "|    0|  346|\n",
            "+-----+-----+\n",
            "\n"
          ]
        }
      ]
    },
    {
      "cell_type": "markdown",
      "source": [
        "## Vector Assembler\n",
        "To combine all feature data and separate 'label' data in a dataset, we use VectorAssembler. Then we split our data into train and test data."
      ],
      "metadata": {
        "id": "kn-igU4dcr0-"
      }
    },
    {
      "cell_type": "code",
      "source": [
        "from pyspark.ml.feature import VectorAssembler"
      ],
      "metadata": {
        "id": "7IW6ttk9V5iz"
      },
      "execution_count": 15,
      "outputs": []
    },
    {
      "cell_type": "code",
      "source": [
        "# I don't like this code, but this was a way for me to do it in a fast way\n",
        "vect = VectorAssembler(inputCols=['col1',\n",
        " 'col2',\n",
        " 'col3',\n",
        " 'col4',\n",
        " 'col5',\n",
        " 'col6',\n",
        " 'col7',\n",
        " 'col8',\n",
        " 'col9',\n",
        " 'col10',\n",
        " 'col11',\n",
        " 'col12',\n",
        " 'col13',\n",
        " 'col14',\n",
        " 'col15',\n",
        " 'col16',\n",
        " 'col17',\n",
        " 'col18',\n",
        " 'col19',\n",
        " 'col20',\n",
        " 'col21',\n",
        " 'col22',\n",
        " 'col23',\n",
        " 'col24',\n",
        " 'col25',\n",
        " 'col26',\n",
        " 'col27',\n",
        " 'col28',\n",
        " 'col29',\n",
        " 'col30',\n",
        " 'col31',\n",
        " 'col32',\n",
        " 'col33',\n",
        " 'col34',\n",
        " 'col35',\n",
        " 'col36',\n",
        " 'col37',\n",
        " 'col38',\n",
        " 'col39',\n",
        " 'col40',\n",
        " 'col41',\n",
        " 'col42',\n",
        " 'col43',\n",
        " 'col44',\n",
        " 'col45',\n",
        " 'col46',\n",
        " 'col47',\n",
        " 'col48',\n",
        " 'col49',\n",
        " 'col50',\n",
        " 'col51',\n",
        " 'col52',\n",
        " 'col53',\n",
        " 'col54',\n",
        " 'col55',\n",
        " 'col56',\n",
        " 'col57',\n",
        " 'col58',\n",
        " 'col59',\n",
        " 'col60',\n",
        " 'col61',\n",
        " 'col62',\n",
        " 'col63',\n",
        " 'col64',\n",
        " 'col65',\n",
        " 'col66',\n",
        " 'col67',\n",
        " 'col68',\n",
        " 'col69',\n",
        " 'col70',\n",
        " 'col71',\n",
        " 'col72',\n",
        " 'col73',\n",
        " 'col74',\n",
        " 'col75',\n",
        " 'col76',\n",
        " 'col77',\n",
        " 'col78',\n",
        " 'col79',\n",
        " 'col80',\n",
        " 'col81',\n",
        " 'col82',\n",
        " 'col83',\n",
        " 'col84',\n",
        " 'col85',\n",
        " 'col86',\n",
        " 'col87',\n",
        " 'col88',\n",
        " 'col89',\n",
        " 'col90',\n",
        " 'col91',\n",
        " 'col92',\n",
        " 'col93',\n",
        " 'col94',\n",
        " 'col95',\n",
        " 'col96',\n",
        " 'col97',\n",
        " 'col98',\n",
        " 'col99',\n",
        " 'col100'],outputCol='features')"
      ],
      "metadata": {
        "id": "NHFqeJ8hWB_I"
      },
      "execution_count": 16,
      "outputs": []
    },
    {
      "cell_type": "code",
      "source": [
        "vect_df = vect.transform(spark_df) # transform our DataFrame to a vector\n",
        "vect_df = vect_df.select(['features', 'label']) # we only select 'features' and 'label' columns because Pyspark ML models wants the dataset like this\n",
        "vect_df.show(3)"
      ],
      "metadata": {
        "colab": {
          "base_uri": "https://localhost:8080/"
        },
        "id": "A-Uvz26HXHbp",
        "outputId": "858844f7-1090-48e3-8f43-486a17873b33"
      },
      "execution_count": 17,
      "outputs": [
        {
          "output_type": "stream",
          "name": "stdout",
          "text": [
            "+--------------------+-----+\n",
            "|            features|label|\n",
            "+--------------------+-----+\n",
            "|[0.050086,0.11158...|    1|\n",
            "|[0.088447,2.3634,...|    0|\n",
            "|[0.77254,0.59469,...|    0|\n",
            "+--------------------+-----+\n",
            "only showing top 3 rows\n",
            "\n"
          ]
        }
      ]
    },
    {
      "cell_type": "code",
      "source": [
        "# split data into train and test \n",
        "(train, test) = vect_df.randomSplit([0.9, 0.1])"
      ],
      "metadata": {
        "id": "5m1CRbF4XPNR"
      },
      "execution_count": 19,
      "outputs": []
    },
    {
      "cell_type": "code",
      "source": [
        "train.show(3)"
      ],
      "metadata": {
        "colab": {
          "base_uri": "https://localhost:8080/"
        },
        "id": "1dSKGZvdW4YK",
        "outputId": "75b8f3b5-f178-4c0a-fdb4-beddaf844989"
      },
      "execution_count": 20,
      "outputs": [
        {
          "output_type": "stream",
          "name": "stdout",
          "text": [
            "+--------------------+-----+\n",
            "|            features|label|\n",
            "+--------------------+-----+\n",
            "|[4.455E-4,0.83678...|    0|\n",
            "|[4.5758E-4,0.8979...|    0|\n",
            "|[0.0010957,3.3082...|    1|\n",
            "+--------------------+-----+\n",
            "only showing top 3 rows\n",
            "\n"
          ]
        }
      ]
    },
    {
      "cell_type": "code",
      "source": [
        "test.show(3)"
      ],
      "metadata": {
        "colab": {
          "base_uri": "https://localhost:8080/"
        },
        "id": "y0PUizbZaZUh",
        "outputId": "81317106-0cae-4ce6-f8ed-2f27cdfae2bd"
      },
      "execution_count": 21,
      "outputs": [
        {
          "output_type": "stream",
          "name": "stdout",
          "text": [
            "+--------------------+-----+\n",
            "|            features|label|\n",
            "+--------------------+-----+\n",
            "|[0.0032418,3.4921...|    1|\n",
            "|[0.0036366,1.7777...|    0|\n",
            "|[0.0053045,2.1663...|    0|\n",
            "+--------------------+-----+\n",
            "only showing top 3 rows\n",
            "\n"
          ]
        }
      ]
    },
    {
      "cell_type": "markdown",
      "source": [
        "## Using Gradient-boosted Tree Classifier to fit and predict our model"
      ],
      "metadata": {
        "id": "V4r1Tq5Nab__"
      }
    },
    {
      "cell_type": "code",
      "source": [
        "# fit the model on train data\n",
        "gbtc = GBTClassifier(labelCol=\"label\", maxIter=20) #max itteration 20\n",
        "gbtc = gbtc.fit(train) # fit train data\n",
        "\n",
        "# predict\n",
        "pred = gbtc.transform(test) #transform() method is for predicting instead of predict()"
      ],
      "metadata": {
        "id": "mxEC3TcpaaH5"
      },
      "execution_count": 22,
      "outputs": []
    },
    {
      "cell_type": "code",
      "source": [
        "pred.show(5)"
      ],
      "metadata": {
        "colab": {
          "base_uri": "https://localhost:8080/"
        },
        "id": "PxlU8C-Uadvn",
        "outputId": "3c2846f8-00f2-4784-82b4-36ab96806511"
      },
      "execution_count": 23,
      "outputs": [
        {
          "output_type": "stream",
          "name": "stdout",
          "text": [
            "+--------------------+-----+--------------------+--------------------+----------+\n",
            "|            features|label|       rawPrediction|         probability|prediction|\n",
            "+--------------------+-----+--------------------+--------------------+----------+\n",
            "|[0.0032418,3.4921...|    1|[-1.5415616507961...|[0.04380879501588...|       1.0|\n",
            "|[0.0036366,1.7777...|    0|[1.49500622787295...|[0.95212087796977...|       0.0|\n",
            "|[0.0053045,2.1663...|    0|[1.15434668584643...|[0.90959446563872...|       0.0|\n",
            "|[0.007249,3.8778,...|    0|[0.82221465492210...|[0.83813673364775...|       0.0|\n",
            "|[0.0091645,0.5926...|    1|[-1.4284818186251...|[0.05432247219937...|       1.0|\n",
            "+--------------------+-----+--------------------+--------------------+----------+\n",
            "only showing top 5 rows\n",
            "\n"
          ]
        }
      ]
    },
    {
      "cell_type": "markdown",
      "source": [
        "## Check the accuracy using MulticlassClassificationEvaluator"
      ],
      "metadata": {
        "id": "6sgoTKkBagV-"
      }
    },
    {
      "cell_type": "code",
      "source": [
        "from pyspark.ml.evaluation import MulticlassClassificationEvaluator\n",
        "from sklearn.metrics import confusion_matrix"
      ],
      "metadata": {
        "id": "xF1lUPicae2s"
      },
      "execution_count": 24,
      "outputs": []
    },
    {
      "cell_type": "code",
      "source": [
        "evaluator=MulticlassClassificationEvaluator(metricName=\"accuracy\")"
      ],
      "metadata": {
        "id": "GMwbB7uOaiUM"
      },
      "execution_count": 25,
      "outputs": []
    },
    {
      "cell_type": "code",
      "source": [
        "acc = evaluator.evaluate(pred)\n",
        "print(\"Accuracy Score: \", acc)"
      ],
      "metadata": {
        "colab": {
          "base_uri": "https://localhost:8080/"
        },
        "id": "WB-0CiO_ajTw",
        "outputId": "afadcff4-fc0d-407c-ed4c-eb1faa7e2dd8"
      },
      "execution_count": 26,
      "outputs": [
        {
          "output_type": "stream",
          "name": "stdout",
          "text": [
            "Accuracy Score:  0.8769230769230769\n"
          ]
        }
      ]
    },
    {
      "cell_type": "markdown",
      "source": [
        "Accuracy of 87,69% for MultiClassClassificationEvaluator using GBTC."
      ],
      "metadata": {
        "id": "HwpTAfYtbaql"
      }
    },
    {
      "cell_type": "markdown",
      "source": [
        "### Create a confusion matrix"
      ],
      "metadata": {
        "id": "OroNhlTDal_Q"
      }
    },
    {
      "cell_type": "code",
      "source": [
        "y_predict=pred.select(\"prediction\").collect()\n",
        "y_original=pred.select(\"label\").collect()\n",
        "confmatrix = confusion_matrix(y_original, y_predict)"
      ],
      "metadata": {
        "id": "bvuHvUEWakZi"
      },
      "execution_count": 27,
      "outputs": []
    },
    {
      "cell_type": "code",
      "source": [
        "print(\"Confusion Matrix:\")\n",
        "print(confmatrix)"
      ],
      "metadata": {
        "colab": {
          "base_uri": "https://localhost:8080/"
        },
        "id": "TVkGj_tkanSR",
        "outputId": "dde84967-6bf3-4251-a0ab-26b2eae39931"
      },
      "execution_count": 28,
      "outputs": [
        {
          "output_type": "stream",
          "name": "stdout",
          "text": [
            "Confusion Matrix:\n",
            "[[31  5]\n",
            " [ 3 26]]\n"
          ]
        }
      ]
    },
    {
      "cell_type": "markdown",
      "source": [
        "## Linear Regression with Spark"
      ],
      "metadata": {
        "id": "Vn1h2dc1asn4"
      }
    },
    {
      "cell_type": "code",
      "source": [
        "from pyspark.ml.regression import LinearRegression"
      ],
      "metadata": {
        "id": "y4NwZMfgaocp"
      },
      "execution_count": 29,
      "outputs": []
    },
    {
      "cell_type": "code",
      "source": [
        "#Create Linear regression model\n",
        "lir = LinearRegression(maxIter=10, regParam=0.3, elasticNetParam=0.8)\n",
        "\n",
        "# Train the model using our training data\n",
        "model = lir.fit(train)\n",
        "\n",
        "# Now see if we can predict values in our test data.\n",
        "# Generate predictions using our linear regression model for all features in our\n",
        "# test dataframe:\n",
        "fullPredictions = model.transform(test).cache()\n",
        "\n",
        "# Extract the predictions and the \"known\" correct labels.\n",
        "predictions = fullPredictions.select(\"prediction\").rdd.map(lambda x: x[0])\n",
        "labels = fullPredictions.select(\"label\").rdd.map(lambda x: x[0])\n",
        "\n",
        "# Zip them together\n",
        "predictionAndLabel = predictions.zip(labels).collect()\n",
        "\n",
        "# Print out the predicted and actual values for each point\n",
        "for prediction in predictionAndLabel:\n",
        "  print(prediction)"
      ],
      "metadata": {
        "colab": {
          "base_uri": "https://localhost:8080/"
        },
        "id": "WQuQ9u7mat6l",
        "outputId": "f1546c5a-75b2-49e7-906f-90415ac7fad9"
      },
      "execution_count": 30,
      "outputs": [
        {
          "output_type": "stream",
          "name": "stdout",
          "text": [
            "(0.41947565543071164, 1)\n",
            "(0.41947565543071164, 0)\n",
            "(0.41947565543071164, 0)\n",
            "(0.41947565543071164, 0)\n",
            "(0.41947565543071164, 1)\n",
            "(0.41947565543071164, 0)\n",
            "(0.41947565543071164, 0)\n",
            "(0.41947565543071164, 0)\n",
            "(0.41947565543071164, 1)\n",
            "(0.41947565543071164, 1)\n",
            "(0.41947565543071164, 0)\n",
            "(0.41947565543071164, 0)\n",
            "(0.41947565543071164, 0)\n",
            "(0.41947565543071164, 0)\n",
            "(0.41947565543071164, 0)\n",
            "(0.41947565543071164, 0)\n",
            "(0.41947565543071164, 0)\n",
            "(0.41947565543071164, 1)\n",
            "(0.41947565543071164, 0)\n",
            "(0.41947565543071164, 0)\n",
            "(0.41947565543071164, 0)\n",
            "(0.41947565543071164, 0)\n",
            "(0.41947565543071164, 1)\n",
            "(0.41947565543071164, 0)\n",
            "(0.41947565543071164, 0)\n",
            "(0.41947565543071164, 1)\n",
            "(0.41947565543071164, 0)\n",
            "(0.41947565543071164, 0)\n",
            "(0.41947565543071164, 0)\n",
            "(0.41947565543071164, 0)\n",
            "(0.41947565543071164, 0)\n",
            "(0.41947565543071164, 0)\n",
            "(0.41947565543071164, 1)\n",
            "(0.41947565543071164, 0)\n",
            "(0.41947565543071164, 1)\n",
            "(0.41947565543071164, 1)\n",
            "(0.41947565543071164, 0)\n",
            "(0.41947565543071164, 0)\n",
            "(0.41947565543071164, 0)\n",
            "(0.41947565543071164, 1)\n",
            "(0.41947565543071164, 0)\n",
            "(0.41947565543071164, 1)\n",
            "(0.41947565543071164, 1)\n",
            "(0.41947565543071164, 0)\n",
            "(0.41947565543071164, 1)\n",
            "(0.41947565543071164, 1)\n",
            "(0.41947565543071164, 0)\n",
            "(0.41947565543071164, 1)\n",
            "(0.41947565543071164, 0)\n",
            "(0.41947565543071164, 1)\n",
            "(0.41947565543071164, 1)\n",
            "(0.41947565543071164, 1)\n",
            "(0.41947565543071164, 1)\n",
            "(0.41947565543071164, 1)\n",
            "(0.41947565543071164, 1)\n",
            "(0.41947565543071164, 1)\n",
            "(0.41947565543071164, 1)\n",
            "(0.41947565543071164, 1)\n",
            "(0.41947565543071164, 1)\n",
            "(0.41947565543071164, 1)\n",
            "(0.41947565543071164, 1)\n",
            "(0.41947565543071164, 1)\n",
            "(0.41947565543071164, 0)\n",
            "(0.41947565543071164, 0)\n",
            "(0.41947565543071164, 0)\n"
          ]
        }
      ]
    },
    {
      "cell_type": "markdown",
      "source": [
        "## Logistic Regression with Spark"
      ],
      "metadata": {
        "id": "pL796otza1QW"
      }
    },
    {
      "cell_type": "code",
      "source": [
        "from pyspark.ml.classification import LogisticRegression\n",
        "from pyspark.ml.evaluation import BinaryClassificationEvaluator"
      ],
      "metadata": {
        "id": "R-wg1ss4a1G6"
      },
      "execution_count": 31,
      "outputs": []
    },
    {
      "cell_type": "code",
      "source": [
        "# Create Logistic Regression model \n",
        "lg = LogisticRegression(labelCol='label')\n",
        "lg_model = lg.fit(train) #fit the model\n",
        "training_sum = lg_model.summary\n",
        "training_sum.predictions.describe().show()"
      ],
      "metadata": {
        "colab": {
          "base_uri": "https://localhost:8080/"
        },
        "id": "rcgWpAcCavEs",
        "outputId": "70c5c66d-b458-4133-f7d9-ce5636e70265"
      },
      "execution_count": 32,
      "outputs": [
        {
          "output_type": "stream",
          "name": "stdout",
          "text": [
            "+-------+-------------------+-------------------+\n",
            "|summary|              label|         prediction|\n",
            "+-------+-------------------+-------------------+\n",
            "|  count|                534|                534|\n",
            "|   mean|0.41947565543071164|0.41947565543071164|\n",
            "| stddev| 0.4939359347743282| 0.4939359347743282|\n",
            "|    min|                0.0|                0.0|\n",
            "|    max|                1.0|                1.0|\n",
            "+-------+-------------------+-------------------+\n",
            "\n"
          ]
        }
      ]
    },
    {
      "cell_type": "code",
      "source": [
        "preds = lg_model.evaluate(test)\n",
        "preds.predictions.show()"
      ],
      "metadata": {
        "colab": {
          "base_uri": "https://localhost:8080/"
        },
        "id": "rvHbIboRa3cx",
        "outputId": "de2bf61a-f123-4be8-d4d3-e6225d7e71dd"
      },
      "execution_count": 33,
      "outputs": [
        {
          "output_type": "stream",
          "name": "stdout",
          "text": [
            "+--------------------+-----+--------------------+--------------------+----------+\n",
            "|            features|label|       rawPrediction|         probability|prediction|\n",
            "+--------------------+-----+--------------------+--------------------+----------+\n",
            "|[0.0032418,3.4921...|    1|[218.054955002582...|           [1.0,0.0]|       0.0|\n",
            "|[0.0036366,1.7777...|    0|[3016.53106301712...|           [1.0,0.0]|       0.0|\n",
            "|[0.0053045,2.1663...|    0|[5171.87240945797...|           [1.0,0.0]|       0.0|\n",
            "|[0.007249,3.8778,...|    0|[479.216748270881...|           [1.0,0.0]|       0.0|\n",
            "|[0.0091645,0.5926...|    1|[-341.45440218498...|[5.10784029044185...|       1.0|\n",
            "|[0.0092304,0.5688...|    0|[6998.16245463894...|           [1.0,0.0]|       0.0|\n",
            "|[0.011877,4.9623,...|    0|[6566.60265352794...|           [1.0,0.0]|       0.0|\n",
            "|[0.016221,3.265,1...|    0|[3859.64836871875...|           [1.0,0.0]|       0.0|\n",
            "|[0.016724,2.8393,...|    1|[-2115.5361569576...|           [0.0,1.0]|       1.0|\n",
            "|[0.030123,1.3544,...|    1|[-6982.4510437926...|           [0.0,1.0]|       1.0|\n",
            "|[0.031638,0.76067...|    0|[-35.948538497624...|[2.4420137108705E...|       1.0|\n",
            "|[0.035857,4.2105,...|    0|[5029.49479547101...|           [1.0,0.0]|       0.0|\n",
            "|[0.036833,2.286,8...|    0|[3573.27291236211...|           [1.0,0.0]|       0.0|\n",
            "|[0.037209,2.5458,...|    0|[-2811.7625069832...|           [0.0,1.0]|       1.0|\n",
            "|[0.040616,3.4401,...|    0|[2519.28334225179...|           [1.0,0.0]|       0.0|\n",
            "|[0.040834,4.3919,...|    0|[146.855908180392...|           [1.0,0.0]|       0.0|\n",
            "|[0.046937,4.1652,...|    0|[1606.14719629503...|           [1.0,0.0]|       0.0|\n",
            "|[0.047377,4.5405,...|    1|[-1423.3080473424...|           [0.0,1.0]|       1.0|\n",
            "|[0.060995,4.7187,...|    0|[-7060.2479637853...|           [0.0,1.0]|       1.0|\n",
            "|[0.066797,2.3816,...|    0|[-2207.3847582032...|           [0.0,1.0]|       1.0|\n",
            "+--------------------+-----+--------------------+--------------------+----------+\n",
            "only showing top 20 rows\n",
            "\n"
          ]
        }
      ]
    },
    {
      "cell_type": "code",
      "source": [
        "# Using AUC (Area Under Curve)\n",
        "eval = BinaryClassificationEvaluator(rawPredictionCol='prediction',labelCol='label')\n",
        "acc = eval.evaluate(preds.predictions)\n",
        "print(acc)"
      ],
      "metadata": {
        "colab": {
          "base_uri": "https://localhost:8080/"
        },
        "id": "_3gC2B_1a5C9",
        "outputId": "f5892aa2-040a-4303-feb0-849e6c9c406c"
      },
      "execution_count": 34,
      "outputs": [
        {
          "output_type": "stream",
          "name": "stdout",
          "text": [
            "0.8371647509578544\n"
          ]
        }
      ]
    },
    {
      "cell_type": "markdown",
      "source": [
        "Accuracy of 83,72% for Logistic Regression."
      ],
      "metadata": {
        "id": "l7CAqbEqbKbC"
      }
    },
    {
      "cell_type": "markdown",
      "source": [
        "## Decision Tree Classifier"
      ],
      "metadata": {
        "id": "BfOk2fDWa-Dw"
      }
    },
    {
      "cell_type": "code",
      "source": [
        "from pyspark.ml.classification import DecisionTreeClassifier"
      ],
      "metadata": {
        "id": "IqC7sQx7a76Q"
      },
      "execution_count": 35,
      "outputs": []
    },
    {
      "cell_type": "code",
      "source": [
        "# Create a DecisionTreeClassifier and fit the training data\n",
        "dtc = DecisionTreeClassifier()\n",
        "dtc_model = dtc.fit(train)\n",
        "\n",
        "# Create predictions for the testing data and take a look at the predictions\n",
        "prediction = dtc_model.transform(test)\n",
        "prediction.select('label', 'prediction', 'probability').show(5, False)"
      ],
      "metadata": {
        "colab": {
          "base_uri": "https://localhost:8080/"
        },
        "id": "6eQTNgFFa_jV",
        "outputId": "c1253039-30d7-431c-9d15-5b51e5d8aeaf"
      },
      "execution_count": 36,
      "outputs": [
        {
          "output_type": "stream",
          "name": "stdout",
          "text": [
            "+-----+----------+----------------------------------------+\n",
            "|label|prediction|probability                             |\n",
            "+-----+----------+----------------------------------------+\n",
            "|1    |1.0       |[0.03773584905660377,0.9622641509433962]|\n",
            "|0    |0.0       |[0.9120879120879121,0.08791208791208792]|\n",
            "|0    |0.0       |[0.9120879120879121,0.08791208791208792]|\n",
            "|0    |0.0       |[0.9120879120879121,0.08791208791208792]|\n",
            "|1    |1.0       |[0.03773584905660377,0.9622641509433962]|\n",
            "+-----+----------+----------------------------------------+\n",
            "only showing top 5 rows\n",
            "\n"
          ]
        }
      ]
    },
    {
      "cell_type": "code",
      "source": [
        "prediction.groupBy('label', 'prediction').count().show()\n",
        "\n",
        "# Calculate the elements of the confusion matrix\n",
        "TN = prediction.filter('prediction = 0 AND label = prediction').count() #True Negatives\n",
        "TP = prediction.filter('prediction = 1 AND label = prediction').count() #True Positives\n",
        "FN = prediction.filter('prediction = 0 AND label = 1').count() #False Negatives\n",
        "FP = prediction.filter('prediction = 1 AND label = 0').count() #False Psotives\n",
        "\n",
        "# Accuracy measures the proportion of correct predictions\n",
        "acc = (TN + TP) / (TN + TP + FN + FP)\n",
        "print(acc)"
      ],
      "metadata": {
        "colab": {
          "base_uri": "https://localhost:8080/"
        },
        "id": "PchCntT_bAn2",
        "outputId": "d66cc4d1-15d5-40e2-89a7-efb061cb01c0"
      },
      "execution_count": 37,
      "outputs": [
        {
          "output_type": "stream",
          "name": "stdout",
          "text": [
            "+-----+----------+-----+\n",
            "|label|prediction|count|\n",
            "+-----+----------+-----+\n",
            "|    1|       0.0|    3|\n",
            "|    0|       0.0|   31|\n",
            "|    1|       1.0|   26|\n",
            "|    0|       1.0|    5|\n",
            "+-----+----------+-----+\n",
            "\n",
            "0.8769230769230769\n"
          ]
        }
      ]
    },
    {
      "cell_type": "markdown",
      "source": [
        "Accuracy of 87,69% for Decision Tree Classifier."
      ],
      "metadata": {
        "id": "MDvK2sVbbTWJ"
      }
    },
    {
      "cell_type": "code",
      "source": [
        "sc.stop() # stop session"
      ],
      "metadata": {
        "id": "iDiN2soCbCcp"
      },
      "execution_count": 38,
      "outputs": []
    },
    {
      "cell_type": "markdown",
      "source": [
        "As I mentioned in the beginning, I just wanted to try to experiment with PySpark again because I didn't understood it that well in the lessons. The results are not as good as the model without PySpark but I would have to make more research to understand how to improve a PySpark ML model."
      ],
      "metadata": {
        "id": "EuoJgrJJdF7-"
      }
    },
    {
      "cell_type": "code",
      "source": [],
      "metadata": {
        "id": "R3pBAocMbEvi"
      },
      "execution_count": null,
      "outputs": []
    }
  ]
}